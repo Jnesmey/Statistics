{
 "cells": [
  {
   "cell_type": "code",
   "execution_count": 1,
   "id": "420989f5",
   "metadata": {},
   "outputs": [],
   "source": [
    "import numpy as np\n",
    "import scipy.stats as st\n",
    "\n",
    "# Этот модуль содержит большое количество вероятностных распределений, сводную и частотную статистику, \n",
    "# корреляционные функции и статистические тесты, маскированную статистику, оценку плотности ядра, \n",
    "# квази-Монте-Карло и многое другое\n"
   ]
  },
  {
   "cell_type": "markdown",
   "id": "6f0c66d7",
   "metadata": {},
   "source": [
    "# Интервальное оценивание \n",
    "1) Генеральной средней при известной дисперсии\n",
    "2) Генеральной средней при неизвестной дисперсии\n",
    "3) Генеральной дисперсии при небольшой выборке (<30)\n",
    "4) Генеральной дисперсии при большой выборке (>30)\n",
    "5) Генеральной доли или вероятности"
   ]
  },
  {
   "cell_type": "markdown",
   "id": "697bd516",
   "metadata": {},
   "source": [
    "## Оценивание генеральной средней"
   ]
  },
  {
   "cell_type": "code",
   "execution_count": 3,
   "id": "5ae36ec7",
   "metadata": {},
   "outputs": [
    {
     "name": "stderr",
     "output_type": "stream",
     "text": [
      "C:\\Users\\n3sm3\\AppData\\Local\\Temp\\ipykernel_19972\\4281946493.py:8: DeprecationWarning: Use of keyword argument 'alpha' for method 'interval' is deprecated and wil be removed in SciPy 1.11.0. Use first positional argument or keyword argument 'confidence' instead.\n",
      "  st.norm.interval(alpha=0.95, loc=np.mean(data), scale=st.sem(data))\n",
      "C:\\Users\\n3sm3\\AppData\\Local\\Temp\\ipykernel_19972\\4281946493.py:12: DeprecationWarning: Use of keyword argument 'alpha' for method 'interval' is deprecated and wil be removed in SciPy 1.11.0. Use first positional argument or keyword argument 'confidence' instead.\n",
      "  st.t.interval(alpha=0.95, df=len(data)-1, loc=np.mean(data), scale=st.sem(data))\n"
     ]
    },
    {
     "data": {
      "text/plain": [
       "(3.3341494103866087, 7.665850589613392)"
      ]
     },
     "execution_count": 3,
     "metadata": {},
     "output_type": "execute_result"
    }
   ],
   "source": [
    "data = [1,2,3,4,5,6,7,8,9,10]\n",
    "# Генеральная средняя может оцениваться по нормальному закону или по закону Стьюдента\n",
    "\n",
    "# Функции соответственно:\n",
    "\n",
    "# Построение интервалов для нормального закона\n",
    "# Нормальный закон используем, если выборка большая или известная генеральная дисперсия\n",
    "st.norm.interval(alpha=0.95, loc=np.mean(data), scale=st.sem(data))\n",
    "\n",
    "# Построение интервала для распределения Стьюдента\n",
    "# Стьюдента используем, если выборка <30 или неизвестна дисперсия\n",
    "st.t.interval(alpha=0.95, df=len(data)-1, loc=np.mean(data), scale=st.sem(data)) \n",
    " "
   ]
  },
  {
   "attachments": {
    "image.png": {
     "image/png": "[encoded data removed]"
    }
   },
   "cell_type": "markdown",
   "id": "17e953c9",
   "metadata": {},
   "source": [
    "Параметры функций:\n",
    "\n",
    "+ __alpha__ -  уровень значимости\n",
    "+ __loc__ - выборочная средняя\n",
    "+ __df__ - число степеней свободы, равное объему выборки минус единица\n",
    "+ __scale__ - стандартная ошибка среднего; можно посчитать через __st.sem()__\n",
    "     стандартная ошибка среднего - среднеквадратичное отклонение выборочной средней\n",
    "     иногда называется средней квадратичной стандартной ошибки выборки - зависит от объема выборки\n",
    "     \n",
    "![image.png](attachment:image.png)"
   ]
  },
  {
   "cell_type": "markdown",
   "id": "6dba50b6",
   "metadata": {},
   "source": [
    "### Вероятность попасть в границы определенного интервала для генеральной средней"
   ]
  },
  {
   "cell_type": "code",
   "execution_count": 107,
   "id": "bdd850e2",
   "metadata": {},
   "outputs": [],
   "source": [
    "# Для нормального распределения Фишера \n",
    "\n",
    "\n",
    "\n",
    "\n",
    "\n"
   ]
  },
  {
   "cell_type": "code",
   "execution_count": 108,
   "id": "8f09713e",
   "metadata": {},
   "outputs": [],
   "source": [
    "#  Для распределения Стьюдента\n",
    "\n",
    "\n",
    "\n",
    "\n",
    "\n",
    "\n"
   ]
  },
  {
   "cell_type": "markdown",
   "id": "8f1b5e51",
   "metadata": {},
   "source": [
    "## Оценивание генеральной дисперсии"
   ]
  },
  {
   "cell_type": "markdown",
   "id": "aac23f2d",
   "metadata": {},
   "source": [
    "Оценивание генерально дисперсии при малых выборках происходит через распределение хи-квадрат, \n",
    "а при выборках больше 30 - с помощью нормального распределения\n",
    "#### Готовой функции нет, нужно прописывать формулу\n"
   ]
  },
  {
   "cell_type": "code",
   "execution_count": 4,
   "id": "6e848e8c",
   "metadata": {},
   "outputs": [
    {
     "name": "stdout",
     "output_type": "stream",
     "text": [
      "214.40373442084342 994.8965178774256\n"
     ]
    }
   ],
   "source": [
    "# Для распределения хи-квадрат:\n",
    "\n",
    "alpha = 0.05              # уровень значимости\n",
    "n = 15                    # объем выборки\n",
    "s2 = 400                  # выборочная дисперсия\n",
    "df = n - 1                # степени свободы\n",
    "# st.chi2.ppf() - Функция процентной точки\n",
    "# Прописываем формулы как из учебника\n",
    "upper = (n - 1) * s2 / st.chi2.ppf(alpha / 2, df)\n",
    "lower = (n - 1) * s2 / st.chi2.ppf(1 - alpha / 2, df)\n",
    "print(lower, upper)\n",
    "# **иногда пишут не upper = (n - 1) * s2 / st.chi2.ppf(alpha / 2, df), а upper = n * s2 / st.chi2.ppf(alpha / 2, df)\n",
    "# **аналогично как с поправкой на выборочную дисперсию\n",
    "# Получаем интервал в котором лежит дисперсия"
   ]
  },
  {
   "cell_type": "code",
   "execution_count": 5,
   "id": "bc233422",
   "metadata": {},
   "outputs": [
    {
     "name": "stdout",
     "output_type": "stream",
     "text": [
      "328.169910742951 485.55834694881503\n"
     ]
    }
   ],
   "source": [
    "# Для нормального распределения:\n",
    "\n",
    "alpha = 0.05               # уровень значимости\n",
    "n = 200                    # объем выборки\n",
    "s2 = 400                   # выборочная дисперсия\n",
    "df = n - 1                 # степени свободы\n",
    "# st.chi2.ppf() - Функция процентной точки\n",
    "# Прописываем формулы как из учебника\n",
    "upper = (((s2**(1/2)) * ((2*n)**(1/2))/(((2*n)-3)**(1/2)))+ st.norm.ppf(1 - (alpha / 2)))**2\n",
    "lower = (((s2**(1/2)) * ((2*n)**(1/2))/(((2*n)-3)**(1/2)))- st.norm.ppf(1 - (alpha / 2)))**2\n",
    "print(lower, upper)\n",
    "# Получаем интервал в котором лежит дисперсия"
   ]
  },
  {
   "cell_type": "markdown",
   "id": "09c48083",
   "metadata": {},
   "source": [
    "### Вероятность попасть в границы определенного интервала для генеральной дисперсии"
   ]
  },
  {
   "cell_type": "code",
   "execution_count": 58,
   "id": "d85e331e",
   "metadata": {},
   "outputs": [
    {
     "name": "stdout",
     "output_type": "stream",
     "text": [
      "12.396694214876034 18.51851851851852\n",
      "0.39030326371153956\n"
     ]
    }
   ],
   "source": [
    "# Для распределения хи-квадрат:\n",
    "\n",
    "upper = 22                 # верхняя граница интервала для которго мы ищем вероятность\n",
    "lower = 18                 # нижняя граница интервала для которого мы ищем вероятность\n",
    "n = 15                      # объем выборки\n",
    "s2 = 400                      # выборочная дисперсия\n",
    "\n",
    "# Сначала находим значения x для распределения Пирсона\n",
    "x1 = s2*n/(upper**2)\n",
    "x2 = s2*n/(lower**2)\n",
    "print(x1,x2)\n",
    "\n",
    "# Далее эти значения подставляем в формулу по таблицам распределения хи-квадрат\n",
    "alpha = st.chi2.cdf(x2, df = n-1) - st.chi2.cdf(x1, df = n-1)\n",
    "print(alpha)\n",
    "# Это вероятность для среднеквадратического отклонения!!!"
   ]
  },
  {
   "cell_type": "code",
   "execution_count": 54,
   "id": "8d01ca48",
   "metadata": {},
   "outputs": [
    {
     "name": "stdout",
     "output_type": "stream",
     "text": [
      "-1.7430406633530957 2.297363377050946\n",
      "-0.9485377193714972\n"
     ]
    }
   ],
   "source": [
    "# Для нормального распределения:\n",
    "\n",
    "upper = 22                 # верхняя граница интервала для которго мы ищем вероятность\n",
    "lower = 18                 # нижняя граница интервала для которого мы ищем вероятность\n",
    "n = 200                      # объем выборки\n",
    "s2 = 400                      # выборочная дисперсия\n",
    "\n",
    "# Сначала находим значения t для функции Лапласа\n",
    "t1 = ((s2**(1/2)) / upper)*(2*n)**(1/2)-(((2*n)-3)**(1/2))\n",
    "t2 = ((s2**(1/2)) / lower)*(2*n)**(1/2)-(((2*n)-3)**(1/2))\n",
    "print(t1, t2)\n",
    "# Далее эти значения подставляем в формулу по таблицам Лапласа\n",
    "# Здесь немного путанница с табличными значениеми и знаками при аргументах функции - лучше проверять для точности\n",
    "alpha = 1 - st.norm.cdf(t2) - st.norm.cdf(-t1)\n",
    "print(alpha)\n",
    "# Это вероятность для среднеквадратического отклонения!!!"
   ]
  },
  {
   "cell_type": "markdown",
   "id": "b4fe9eed",
   "metadata": {},
   "source": [
    "## Оценивание генеральной доли"
   ]
  },
  {
   "cell_type": "code",
   "execution_count": null,
   "id": "0ba98e74",
   "metadata": {},
   "outputs": [],
   "source": []
  },
  {
   "cell_type": "code",
   "execution_count": null,
   "id": "f540de5e",
   "metadata": {},
   "outputs": [],
   "source": []
  },
  {
   "cell_type": "code",
   "execution_count": null,
   "id": "7c9b0a26",
   "metadata": {},
   "outputs": [],
   "source": []
  },
  {
   "cell_type": "code",
   "execution_count": null,
   "id": "a0409529",
   "metadata": {},
   "outputs": [],
   "source": []
  }
 ],
 "metadata": {
  "kernelspec": {
   "display_name": "Python 3 (ipykernel)",
   "language": "python",
   "name": "python3"
  },
  "language_info": {
   "codemirror_mode": {
    "name": "ipython",
    "version": 3
   },
   "file_extension": ".py",
   "mimetype": "text/x-python",
   "name": "python",
   "nbconvert_exporter": "python",
   "pygments_lexer": "ipython3",
   "version": "3.10.9"
  }
 },
 "nbformat": 4,
 "nbformat_minor": 5
}

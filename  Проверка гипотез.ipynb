{
 "cells": [
  {
   "cell_type": "code",
   "execution_count": 1,
   "id": "7f22aec8",
   "metadata": {},
   "outputs": [],
   "source": [
    "import numpy as np\n",
    "import scipy.stats as st"
   ]
  },
  {
   "cell_type": "markdown",
   "id": "169f3a1f",
   "metadata": {},
   "source": [
    "### Проверка гипотез"
   ]
  },
  {
   "cell_type": "markdown",
   "id": "ddd87d73",
   "metadata": {},
   "source": [
    "Основные виды гипотез:\n",
    "1) Равенство математического ожидания заданному значению (при известной или неизвестной дисперсии)\n",
    "2) Равенство математических ожиданий двух генеральных совукупностей (при равной или неравной дисперсии)\n",
    "3) Равенство дисперсии заданному значению\n",
    "4) Равенство дисперсий (двух или более совокупностей)\n",
    "5) Проверка гипотез о биномиальном распределении"
   ]
  },
  {
   "cell_type": "markdown",
   "id": "f84a4a9f",
   "metadata": {},
   "source": [
    "### Тесты с t-критерием\n",
    "1) st.ttest_1samp - гипотеза о равенстве мат ожидания заданному значению\n",
    "2) st.ttest_ind_from_stats - гипотеза о равенстве мат. ожиданий независимых совокупностей (по параметрам)\n",
    "3) st.ttest_ind - гипотеза о равенстве мат. ожиданий независимых совокупностей (по выборкам)\n",
    "4) st.ttest_rel - гипотеза о равенстве мат. ожиданий зависимых совокупностей"
   ]
  },
  {
   "cell_type": "code",
   "execution_count": 19,
   "id": "66d12158",
   "metadata": {},
   "outputs": [
    {
     "data": {
      "text/plain": [
       "array([3.95149263, 1.96622483, 4.82095148, 3.97100042, 3.83810469,\n",
       "       3.87192182, 4.06932578, 3.39421806, 2.73222398, 2.9774926 ,\n",
       "       2.89859886, 3.02789462, 3.60555803, 3.70088204, 4.37662093,\n",
       "       3.06555038, 4.10979018, 3.53903648, 5.40285929, 2.79810543,\n",
       "       4.23275369, 1.66821857, 2.07002221, 2.91721934, 3.43650123,\n",
       "       4.48085832, 3.47058017, 2.86647187, 3.65544925, 3.10352188,\n",
       "       2.31800372, 2.13905892, 3.18904858, 4.70308442, 1.52147205,\n",
       "       3.22602084, 3.32529136, 3.68746514, 3.70143679, 2.54347363,\n",
       "       3.12958703, 3.0486732 , 4.61974119, 0.76071056, 3.55616812,\n",
       "       2.89722991, 0.63368963, 3.20395624, 2.99074646, 4.78710699,\n",
       "       2.87029691, 2.99769107, 3.59721216, 4.18101658, 3.00939421,\n",
       "       4.05058228, 2.0218793 , 2.120184  , 3.38925219, 1.9059648 ,\n",
       "       4.43767686, 2.71724709, 4.49233697, 2.67555775, 2.00203227,\n",
       "       4.40187464, 3.72204826, 1.36834691, 2.90252479, 3.34037526,\n",
       "       1.17298539, 3.77740315, 3.32078569, 3.8142669 , 3.03192807,\n",
       "       4.86559115, 2.27770747, 3.15499131, 2.47061023, 5.03322787,\n",
       "       4.03791848, 2.44547689, 3.12779433, 2.89244713, 3.65304752,\n",
       "       3.54648691, 2.37670157, 3.19384475, 2.8681329 , 1.16167376,\n",
       "       3.54280732, 0.53849283, 3.88912512, 3.62790817, 3.95457184,\n",
       "       2.02908043, 0.17116617, 1.89833582, 4.06230598, 2.8465324 ])"
      ]
     },
     "execution_count": 19,
     "metadata": {},
     "output_type": "execute_result"
    }
   ],
   "source": [
    "r = norm.rvs(loc=3.3, scale=1, size=100, random_state=None)\n",
    "r"
   ]
  },
  {
   "cell_type": "code",
   "execution_count": 24,
   "id": "7d762bac",
   "metadata": {},
   "outputs": [
    {
     "name": "stdout",
     "output_type": "stream",
     "text": [
      "TtestResult(statistic=-3.4127747314027648, pvalue=0.0004664151341536634, df=99) ConfidenceInterval(low=-inf, high=3.320222515895323)\n"
     ]
    }
   ],
   "source": [
    "a = 3.5\n",
    "res = st.ttest_1samp(r, a, axis=0, nan_policy='propagate', alternative='less', keepdims=False)\n",
    "ci = res.confidence_interval(confidence_level=0.95)\n",
    "print(res, ci)"
   ]
  },
  {
   "cell_type": "code",
   "execution_count": 13,
   "id": "f2724d7e",
   "metadata": {},
   "outputs": [],
   "source": [
    "# import numpy as np\n",
    "# from scipy.stats import norm\n",
    "# import matplotlib.pyplot as plt\n",
    "# fig, ax = plt.subplots(1, 1)\n",
    "# x = np.linspace(norm.ppf(0.01),\n",
    "#                 norm.ppf(0.99), 100)\n",
    "# ax.plot(x, norm.pdf(x),\n",
    "#        'r-', lw=5, alpha=0.6, label='norm pdf')\n",
    "# rv = norm()\n",
    "# ax.plot(x, rv.pdf(x), 'k-', lw=2, label='frozen pdf')"
   ]
  },
  {
   "cell_type": "code",
   "execution_count": null,
   "id": "91e80c79",
   "metadata": {},
   "outputs": [],
   "source": [
    "st.ttest_1samp(a, popmean, axis=0, nan_policy='propagate', alternative='two-sided', *, keepdims=False)"
   ]
  },
  {
   "cell_type": "code",
   "execution_count": null,
   "id": "0779065a",
   "metadata": {},
   "outputs": [],
   "source": [
    "st.ttest_1samp(a, popmean, axis=0, nan_policy='propagate', alternative='two-sided', keepdims=False)"
   ]
  }
 ],
 "metadata": {
  "kernelspec": {
   "display_name": "Python 3 (ipykernel)",
   "language": "python",
   "name": "python3"
  },
  "language_info": {
   "codemirror_mode": {
    "name": "ipython",
    "version": 3
   },
   "file_extension": ".py",
   "mimetype": "text/x-python",
   "name": "python",
   "nbconvert_exporter": "python",
   "pygments_lexer": "ipython3",
   "version": "3.10.9"
  }
 },
 "nbformat": 4,
 "nbformat_minor": 5
}

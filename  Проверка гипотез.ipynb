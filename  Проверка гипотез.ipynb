{
 "cells": [
  {
   "cell_type": "code",
   "execution_count": 1,
   "id": "7f22aec8",
   "metadata": {},
   "outputs": [],
   "source": [
    "import numpy as np\n",
    "import scipy.stats as st\n",
    "import pandas as pd"
   ]
  },
  {
   "cell_type": "markdown",
   "id": "169f3a1f",
   "metadata": {},
   "source": [
    "# Проверка гипотез"
   ]
  },
  {
   "cell_type": "markdown",
   "id": "5bc25d7a",
   "metadata": {},
   "source": [
    "Основные виды критериев при проверке гипотез:\n",
    "1) Критерии согласия - проверка на соответствие определенному закону распределения (общие или специальные критерии)\n",
    "2) Критерии значимости - проверка численных параметров известных законов распределения\n",
    "3) Критерии однородности - проверка значимости различий распределений\n",
    "\n",
    "По применению:\n",
    "1) Параметрические - используются только для определенных распределений (более мощные)\n",
    "2) Непараметрические - могут использоваться при неизвестном распределении"
   ]
  },
  {
   "cell_type": "markdown",
   "id": "b57e8a04",
   "metadata": {},
   "source": [
    "## Критерий Шапиро-Уилко (специальный критерий согласия)\n",
    "Основан на оптимальной линейной несмещённой оценке дисперсии к её обычной оценке методом максимального правдоподобия и является одним наиболее эффективных критериев проверки нормальности\n",
    "\n",
    "+ H0 - выборка взята из нормального распределения\n",
    "+ H1 - выборка взята не из нормального распределения\n",
    "\n",
    "**st.shapiro(x)** - реализация теста в scipy. Возвращает тестовое значение критерия и p-value.\n",
    "+ Если тестовое значение критерия приближается к единице и p-value > alpha - принимаем нулевую гипотезу - распределение нормальное. \n",
    "+ В обратном случае - p-value < alpha - отвергаем нулевую гипотезу - выборка взята из распределения отличного от нормального"
   ]
  },
  {
   "cell_type": "code",
   "execution_count": 2,
   "id": "8cb248da",
   "metadata": {},
   "outputs": [
    {
     "name": "stdout",
     "output_type": "stream",
     "text": [
      "ShapiroResult(statistic=0.9811134338378906, pvalue=0.7822656035423279)\n",
      "ShapiroResult(statistic=0.4521617889404297, pvalue=1.732437526769104e-09)\n"
     ]
    }
   ],
   "source": [
    "# Критерий Шапиро-Уилко\n",
    "\n",
    "x = [1,2,2,3,3,3,4,4,4,4,5,5,5,5,5,6,6,6,6,6,6,7,7,7,7,7,8,8,8,8,9,9,9,10,10,11] #нормальное распределение\n",
    "y = [1,1,1,1,1,1,11,1,1,1,1,1,1,1,11,1,1,1,1,11,1,1,1,11,1,1,11,1,1,1] #отличное от нормального\n",
    "print(st.shapiro(x))\n",
    "print(st.shapiro(y))"
   ]
  },
  {
   "cell_type": "markdown",
   "id": "f06585aa",
   "metadata": {},
   "source": [
    "## Критерий Андерсона — Дарлинга (общий критерий согласия)\n",
    "\n",
    "Классический непараметрический критерий согласия Андерсона — Дарлинга предназначен для проверки простых гипотез о принадлежности анализируемой выборки полностью известному закону\n",
    "\n",
    "+ H0 - выборка взята из определенного распределения\n",
    "+ H1 - выборка взята не из определенного распределения\n",
    "\n",
    "Нулевая гипотеза отклоняется при больших значениях статитистики\n",
    "***\n",
    "**st.anderson(x)** - реализация теста в scipy. \n",
    "\n",
    "Эта функция работает для нормального, экспоненциального, логистического, распределения Weibull_min или распределения Гамбеля (экстремальное значение, тип I). \n",
    "\n",
    "Соответствующие параметры: dist{‘norm’, ‘expon’, ‘logistic’, ‘gumbel’, ‘gumbel_l’, ‘gumbel_r’, ‘extreme1’, ‘weibull_min’}, optional"
   ]
  },
  {
   "cell_type": "code",
   "execution_count": 3,
   "id": "ffa97356",
   "metadata": {},
   "outputs": [
    {
     "name": "stdout",
     "output_type": "stream",
     "text": [
      "AndersonResult(statistic=0.537373973495292, critical_values=array([0.528, 0.601, 0.721, 0.841, 1.   ]), significance_level=array([15. , 10. ,  5. ,  2.5,  1. ]), fit_result=  params: FitParams(loc=6.638888888888889, scale=2.1132612275516283)\n",
      " success: True\n",
      " message: '`anderson` successfully fit the distribution to the data.')\n",
      " При 15.0% уровне значимости критическое значение равно 0.528\n",
      " При 10.0% уровне значимости критическое значение равно 0.601\n",
      " При 5.0% уровне значимости критическое значение равно 0.721\n",
      " При 2.5% уровне значимости критическое значение равно 0.841\n",
      " При 1.0% уровне значимости критическое значение равно 1.0\n"
     ]
    }
   ],
   "source": [
    "# Критерий Андерсона - Дарлинга\n",
    "\n",
    "x = [7,8,2,3,3,8,9,9,4,5,5,5,5,5,5,6,6,8,6,6,6,7,7,7,7,7,8,8,8,8,9,9,3,10,10,10] # приближенно нормальное распределение\n",
    "print(st.anderson(x, dist='norm'))\n",
    "\n",
    "# Значение статистики - 0.5374. Далее дается список критических значений для соответствующих \n",
    "# уровней значений - для нормального - 15%, 10%, 5%, 2.5%, 1%.\n",
    "# Смотрим на соответствие значений и сравниваем на каком уровне значение статистики больше критического:\n",
    "v = st.anderson(x, dist='norm').critical_values\n",
    "l = st.anderson(x, dist='norm').significance_level\n",
    "for i,j in zip(v,l):\n",
    "    print(f' При {j}% уровне значимости критическое значение равно {i}')\n",
    "# Значение статистики 0.5374 больше чем 0.528, но меньше чем 0.601 -\n",
    "# следовательно нулевая гипотеза может быть отклонена при 15% уровне значимости, но не при 10% уровне значимости"
   ]
  },
  {
   "cell_type": "markdown",
   "id": "6a9b7b27",
   "metadata": {},
   "source": [
    "## Критерии Стьюдента (параметрический критерий значимости)\n",
    "\n",
    "Критерий Стьюдента - это общее название для всех критериев, использующих критическое значение t-распределения. Данные критерии параметрически, следовательно могут применятся только к выборкам, которые прошли тесты на нормальность.\n",
    "Основные варианты применения критерия:\n",
    "\n",
    "1) Сравнение выборочного среднего с заданным значением\n",
    "2) Сравнение двух выборочных средних при известных дисперсиях\n",
    "3) Сравнение двух выборочных средних при неизвестных равных дисперсиях\n",
    "4) Сравнение двух выборочных средних при неизвестных неравных дисперсиях\n",
    "5) Сравнение двух выборочных средних в связанных выборках\n",
    "\n",
    "Варианты реализации тестов в scipy:\n",
    "\n",
    "1) **st.ttest_1samp** - одновыборочный критерий\n",
    "2) **st.ttest_ind_from_stats** - критерий для двух несвязанных выборок (по параметрам)\n",
    "3) **st.ttest_ind** - критерий для двух несвязанных выборок (по выборкам)\n",
    "4) **st.ttest_rel** - критерий для двух *связанных* выборок\n"
   ]
  },
  {
   "cell_type": "markdown",
   "id": "e2a5c06d",
   "metadata": {},
   "source": [
    "### Одновыборочный критерий Стьюдента \n",
    "**st.ttest_1samp** - проверка на соответствие среднего значения заданному\n",
    "Принимает на вход выборку, ожидаемое среднее и вид альтернативной гипотезы.\n",
    "Доступны следующие параметры (по умолчанию «двусторонний»): \n",
    "\n",
    "1) ‘two-sided’: среднее значение базового распределения выборки отличается от заданного среднего значения совокупности \n",
    "2) ‘less’: среднее значение базового распределения выборки меньше заданного среднего значения генеральной совокупности \n",
    "3) ‘greater’: среднее значение базового распределения выборки больше, чем заданное среднее значение генеральной совокупности \n"
   ]
  },
  {
   "cell_type": "code",
   "execution_count": 4,
   "id": "80c92300",
   "metadata": {},
   "outputs": [
    {
     "name": "stdout",
     "output_type": "stream",
     "text": [
      "TtestResult(statistic=14.306481820215346, pvalue=1.721261821954474e-16, df=35)\n"
     ]
    },
    {
     "data": {
      "text/plain": [
       "ConfidenceInterval(low=6.043804229205406, high=inf)"
      ]
     },
     "execution_count": 4,
     "metadata": {},
     "output_type": "execute_result"
    }
   ],
   "source": [
    "# Пример для одностороней критической области\n",
    "\n",
    "#  H0 - среднее генеральной совокупности равно 6.6\n",
    "#  H1 - среднее генеральной совокупности больше 6.6\n",
    "\n",
    "# Устанавливаем уровень значимости alpha = 0.05\n",
    "# Если p-значение больше alpha - принимается нулевая гипотеза\n",
    "\n",
    "x = [7,8,2,3,3,8,9,9,4,5,5,5,5,5,5,6,6,8,6,6,6,7,7,7,7,7,8,8,8,8,9,9,3,10,10,10]\n",
    "print(st.ttest_1samp(x, 1.6, alternative='greater'))\n",
    "# В данном примере pvalue - значительно меньше, значит с значимостью alpha мы отклоняем нулевую гипотезу и признаем, \n",
    "# что истинное среднее значение больше 1.6\n",
    "# Также данная функция позволяет вычислять доверительный интервал\n",
    "(st.ttest_1samp(x, 1.6, alternative='greater').confidence_interval(confidence_level=0.95))\n",
    "# Границы 95% доверительного интервала — это минимальное и максимальное значения параметра предполагаемого среднего, \n",
    "# для которых p-значение теста будет равно 0,05."
   ]
  },
  {
   "cell_type": "markdown",
   "id": "3d5b91d5",
   "metadata": {},
   "source": [
    "### Критерий Стьюдента для несвязанных выборок\n",
    "\n",
    "Это проверка нулевой гипотезы о том, что две независимые выборки имеют одинаковые средние (ожидаемые) значения. Этот тест предполагает, что выборки по умолчанию имеют одинаковые дисперсии (следовательно и объемы выборок равны). Но у реализации этих тестов есть параметр *equal_var* по умолчанию = True, то есть его можно установить как False и сравнивать среднии выборок с неравными дисперсиями и объемами выборок\n",
    "\n",
    "Варианты реализации тестов в scipy:\n",
    "\n",
    "+ **scipy.stats.ttest_ind** - принимает на вход выборку\n",
    "+ **scipy.stats.ttest_ind_from_stats** - принимает на вход параметры выборки\n",
    "\n",
    "Доступны следующие параметры (по умолчанию «двусторонний»): \n",
    "\n",
    "1) ‘two-sided’: средние значения распределений, лежащих в основе выборок, неравны \n",
    "2) ‘less’: среднее значение распределения, лежащего в основе первой выборки, меньше среднего значения распределения, лежащего в основе второй выборки\n",
    "3) ‘greater’: среднее значение распределения, лежащего в основе первой выборки, больше, чем среднее значение распределения, лежащего в основе второй выборки\n"
   ]
  },
  {
   "cell_type": "code",
   "execution_count": 5,
   "id": "48d201c5",
   "metadata": {},
   "outputs": [
    {
     "name": "stdout",
     "output_type": "stream",
     "text": [
      "Статистика и p-value для равных выборок с равной дисперсией Ttest_indResult(statistic=0.8145617913384573, pvalue=0.41551751298630757)\n",
      "p-value > alpha принимаем нулевую гипотезу о равенстве средних\n",
      "Статистика и p-value для равных выборок с неравной дисперсией - неверный тест Ttest_indResult(statistic=1.0038980187086552, pvalue=0.3156711094092286)\n",
      "Статистика и p-value для равных выборок с неравной дисперсией - верный тест Ttest_indResult(statistic=1.0038980187086552, pvalue=0.31582320831576777)\n"
     ]
    },
    {
     "data": {
      "text/plain": [
       "Ttest_indResult(statistic=0.9358461935556048, pvalue=0.35999818693244245)"
      ]
     },
     "execution_count": 5,
     "metadata": {},
     "output_type": "execute_result"
    }
   ],
   "source": [
    "# Примеры \n",
    "rng = np.random.default_rng() # генератор рандома\n",
    "#  H0 - средние генеральных совокупностей равны   \n",
    "#  H1 - средние генеральных совокупностей неравны\n",
    "# Если p-значение больше alpha - принимается нулевая гипотеза\n",
    "\n",
    "rvs1 = st.norm.rvs(loc=5, scale=10, size=500, random_state=rng) #рандомная выборка\n",
    "rvs2 = st.norm.rvs(loc=5, scale=10, size=500, random_state=rng) #вторая рандомная выборка с такими же параметрами\n",
    "rvs3 = st.norm.rvs(loc=5, scale=30, size=500, random_state=rng) #третья рандомная выборка с большей дисперсией\n",
    "print('Статистика и p-value для равных выборок с равной дисперсией', st.ttest_ind(rvs1, rvs2))\n",
    "print('p-value > alpha принимаем нулевую гипотезу о равенстве средних')\n",
    "\n",
    "# Применяем тест с равными дисперсиями для выборок у которых они на самом деле не равны\n",
    "print('Статистика и p-value для равных выборок с неравной дисперсией - неверный тест', st.ttest_ind(rvs1, rvs3))\n",
    "# Добавляем факт неравенства дисперсий\n",
    "print('Статистика и p-value для равных выборок с неравной дисперсией - верный тест', st.ttest_ind(rvs1, rvs3, equal_var=False))\n",
    "\n",
    "# Функция **scipy.stats.ttest_ind_from_stats** работает точно также только на вход принимает параметры выборки\n",
    "a = np.array([1, 3, 4, 6, 11, 13, 15, 19, 22, 24, 25, 26, 26])\n",
    "b = np.array([2, 4, 6, 9, 11, 13, 14, 15, 18, 19, 21])\n",
    "st.ttest_ind_from_stats(mean1=15.0, std1=np.sqrt(87.5), nobs1=13,\n",
    "                     mean2=12.0, std2=np.sqrt(39.0), nobs2=11, equal_var=False)"
   ]
  },
  {
   "cell_type": "markdown",
   "id": "166e2815",
   "metadata": {},
   "source": [
    "### Критерий Стьюдента для связанных выборок\n",
    "\n",
    "Рассчитывает t-критерий для *двух связанных* выборок оценок, a и b. Это проверка нулевой гипотезы о том, что две связанные или повторяющиеся выборки имеют одинаковые средние (ожидаемые) значения. Альтернативная гипотеза также может быть сформулирована в трех вариантах.\n",
    "\n",
    "Применяется при использовании повторных выборкок из одних и тех же единиц. Тест измеряет, значительно ли различается среднее по выборкам. Если мы наблюдаем большое значение p, то мы не можем отвергнуть нулевую гипотезу об равных средних.\n",
    "Если p-значение меньше порогового значения, то мы отвергаем нулевую гипотезу о равных средних. Небольшие p-значения связаны с большими t-статистиками. \n"
   ]
  },
  {
   "cell_type": "code",
   "execution_count": 6,
   "id": "4a5200a4",
   "metadata": {},
   "outputs": [
    {
     "name": "stdout",
     "output_type": "stream",
     "text": [
      "p-value больше alpha - нет оснований отвергнуть нулевую гипотезу о равенстве\n"
     ]
    }
   ],
   "source": [
    "# Пример абсолютно такой же\n",
    "\n",
    "rvs1 = st.norm.rvs(loc=5, scale=10, size=500, random_state=rng) #рандомная выборка\n",
    "rvs2 = st.norm.rvs(loc=5, scale=10, size=500, random_state=rng) #вторая рандомная выборка с такими же параметрами\n",
    "st.ttest_rel(rvs1, rvs2)\n",
    "print('p-value больше alpha - нет оснований отвергнуть нулевую гипотезу о равенстве')"
   ]
  },
  {
   "cell_type": "markdown",
   "id": "acc2647c",
   "metadata": {},
   "source": [
    "## Парные непараметрические тесты\n",
    "\n",
    "Непараметрические тесты применяются в случае, если выборка взята из распределения отличного от нормального, если признак измерен в количественной или порядковой шкале. Критерии являются ранговыми, т.е. инвариантными по отношению к любому монотонному преобразованию шкалы измерения\n",
    "\n",
    "Варианты реализации тестов в scipy:х\n",
    "\n",
    "+ **scipy.stats.mannwhitneyu** - для независимых выборок\n",
    "+ **scipy.stats.wilcoxon** - для связанных выборок\n",
    "\n",
    "Вычислите критерий знакового ранга Уилкоксона. Критерий знакового ранга Уилкоксона проверяет нулевую гипотезу о том, что две связанные парные выборки происходят из одного и того же распределения. В частности, он проверяет, является ли распределение разностей x-y симметричным относительно нуля. Это непараметрическая версия парного(связанного) Т-теста."
   ]
  },
  {
   "cell_type": "markdown",
   "id": "610a147f",
   "metadata": {},
   "source": [
    "### Критерий Манна-Уитни\n",
    "\n",
    "U-критерий Манна-Уитни — это непараметрический тест нулевой гипотезы о том, что распределение, лежащее в основе выборки x, совпадает с распределением, лежащим в основе выборки y\n",
    "\n",
    "Реализация в scipy:\n",
    "+ **scipy.stats.mannwhitneyu**\n",
    "\n",
    "Имеются следующие вариации методов использования критерия - method{‘auto’, ‘asymptotic’, ‘exact’}, optional.\n",
    "Критическая область также определяется тремя вариантами, аналогично t-тесту"
   ]
  },
  {
   "cell_type": "code",
   "execution_count": 7,
   "id": "8ada964f",
   "metadata": {},
   "outputs": [
    {
     "name": "stdout",
     "output_type": "stream",
     "text": [
      "MannwhitneyuResult(statistic=17.0, pvalue=0.9682539682539684)\n",
      "MannwhitneyuResult(statistic=17.0, pvalue=0.1111111111111111)\n"
     ]
    }
   ],
   "source": [
    "#  H0 - случайные величины распределены одинаково\n",
    "#  H1 - распределение, лежащее в основе x, стохастически меньше, чем распределение,\n",
    "# лежащее в основе y, т. Е. F (u)> G (u) для всех u.\n",
    "\n",
    "males = [19, 22, 16, 29, 24]\n",
    "females = [20, 11, 17, 12]\n",
    "print(st.mannwhitneyu(males, females, method=\"exact\", alternative=\"less\"))\n",
    "# p-value больше alpha - принимаем нулевую гипотезу о равенстве\n",
    "# А если критическую обдасть сделать двухсторонней\n",
    "print(st.mannwhitneyu(males, females, method=\"exact\"))"
   ]
  },
  {
   "cell_type": "markdown",
   "id": "49614ef6",
   "metadata": {},
   "source": [
    "### Критерий Уилкоксона\n",
    "\n",
    "Критерий знакового ранга Уилкоксона проверяет нулевую гипотезу о том, что две связанные парные выборки происходят из одного и того же распределения. В частности, он проверяет, является ли распределение разностей x-y симметричным относительно нуля. Это непараметрическая версия парного t-теста. В такой реализации он представлен в skipy, в теории есть и другие разновидности\n",
    "\n",
    "Реализация в scipy:\n",
    "+ **scipy.stats.wilcoxon**\n",
    "\n",
    "На вход может принимать выборки или их разницу\n",
    "Предлагает несколько способов обработки нулевых значений - zero_method{“wilcox”, “pratt”, “zsplit”}, optional"
   ]
  },
  {
   "cell_type": "code",
   "execution_count": 8,
   "id": "c1b451ca",
   "metadata": {},
   "outputs": [
    {
     "name": "stdout",
     "output_type": "stream",
     "text": [
      "WilcoxonResult(statistic=5.0, pvalue=0.5625)\n",
      "WilcoxonResult(statistic=5.0, pvalue=0.5625)\n"
     ]
    }
   ],
   "source": [
    "# Применение критерия Уилкоксона\n",
    "\n",
    "#  H0 - случайные величины распределены одинаково\n",
    "#  H1 - распределение, лежащее в основе x, стохастически больше, чем распределение, лежащее в основе y\n",
    "\n",
    "x = np.array([0.5, 0.825, 0.375, 0.5])\n",
    "y = np.array([0.525, 0.775, 0.325, 0.55])\n",
    "z = x - y\n",
    "print(st.wilcoxon(x, y, alternative='greater'))\n",
    "print(st.wilcoxon(z,alternative='greater'))\n",
    "\n",
    "# p-value больше alpha - принимаем нулевую гипотезу о равенстве"
   ]
  },
  {
   "cell_type": "markdown",
   "id": "83ca2e51",
   "metadata": {},
   "source": [
    "## Прочие тесты"
   ]
  },
  {
   "cell_type": "markdown",
   "id": "2cd45005",
   "metadata": {},
   "source": [
    "### Критерий Флигнера-Килина\n",
    "\n",
    "Тест на проверку равенства дисперсий двух и более выборок. В качестве меры центральной тенденции можно использовать среднюю или медиану.\n",
    "\n",
    "Реализация в skipy:\n",
    "+ **scipy.stats.fligner**\n",
    "\n",
    "Нулевая гипотеза - равенство дисперсий. Обратная гипотеза - неравенство(следовательно односторонние критичекие области не предусматриваются). На вход подаются выборки и вид меры центральной тенденции по умолчанию - медиана:\n",
    "\n",
    "center{‘mean’, ‘median’, ‘trimmed’}, optional"
   ]
  },
  {
   "cell_type": "code",
   "execution_count": 9,
   "id": "9ecec312",
   "metadata": {},
   "outputs": [
    {
     "data": {
      "text/plain": [
       "FlignerResult(statistic=10.803687663522238, pvalue=0.00450826080004775)"
      ]
     },
     "execution_count": 9,
     "metadata": {},
     "output_type": "execute_result"
    }
   ],
   "source": [
    "# Пример\n",
    "\n",
    "a = [8.88, 9.12, 9.04, 8.98, 9.00, 9.08, 9.01, 8.85, 9.06, 8.99]\n",
    "b = [8.88, 8.95, 9.29, 9.44, 9.15, 9.58, 8.36, 9.18, 8.67, 9.05]\n",
    "c = [8.95, 9.12, 8.95, 8.85, 9.03, 8.84, 9.07, 8.98, 8.86, 8.98]\n",
    "st.fligner(a, b, c)\n",
    "\n",
    "# p-value меньше alpha - нет оснований принять нулевую гипотезу о равенстве"
   ]
  },
  {
   "cell_type": "markdown",
   "id": "56ecc7ad",
   "metadata": {},
   "source": [
    "### Биномиальный тест\n",
    "\n",
    "Биномиальный тест - это проверка нулевой гипотезы о том, что вероятность успеха в эксперименте Бернулли равна р. Альтернативная гипотеза также может быть сформулирована в трех вариациях по виду критической области\n",
    "\n",
    "Реализация в skipy:\n",
    "+ **scipy.stats.binomtest**\n",
    "\n",
    "На вход подается число успехов, число испытаний, тестируемая вероятность и вид критической области"
   ]
  },
  {
   "cell_type": "code",
   "execution_count": 10,
   "id": "8738b6e2",
   "metadata": {},
   "outputs": [
    {
     "data": {
      "text/plain": [
       "BinomTestResult(k=3, n=15, alternative='greater', statistic=0.2, pvalue=0.18406106910639106)"
      ]
     },
     "execution_count": 10,
     "metadata": {},
     "output_type": "execute_result"
    }
   ],
   "source": [
    "# Пример\n",
    "# В эксперименте заявлена вероятность успеха 10%, на практике успешно было 3 попытки из 15. \n",
    "# Верна ли заявленая вероятность успеха?\n",
    "\n",
    "st.binomtest(3, n=15, p=0.1, alternative='greater')\n",
    "# p-value больше alpha - принимаем нулевую гипотезу о том, что вероятность успеха в данном испытании 10%"
   ]
  },
  {
   "attachments": {
    "image.png": {
     "image/png": "[encoded data removed]"
    }
   },
   "cell_type": "markdown",
   "id": "b31fd58b",
   "metadata": {},
   "source": [
    "### Критерий хи-квадра (таблицы сопряженности)\n",
    "\n",
    "Таблица сопряженности - средство представления совместного распределения двух переменных, предназначенное для исследования связи между ними. Таблица сопряженности является наиболее универсальным средством изучения статистических связей, так как в ней могут быть представлены переменные с любым уровнем измерения.\n",
    "\n",
    "Таблицы сопряженности используются для проверки гипотезы о наличии связи между двумя признаками ( Статистическая связь, Критерий \"хи-квадрат\" ), а также для измерения тесноты связи ( Коэффициент фи, Коэффициент контингенции, Коэффициент Крамера)\n",
    "\n",
    "Реализация в skipy:\n",
    "+ **scipy.stats.chi2_contingency**\n",
    "\n",
    "Использует только двустороннюю критическую область\n",
    "\n",
    "В следующей таблице приведены результаты эксперимента, в котором участники регулярно принимали аспирин или плацебо в течение нескольких лет. Зарегистрированы случаи ишемического инсульта:\n",
    "\n",
    "![image.png](attachment:image.png)"
   ]
  },
  {
   "cell_type": "code",
   "execution_count": 11,
   "id": "b5acd38d",
   "metadata": {},
   "outputs": [
    {
     "data": {
      "text/plain": [
       "Chi2ContingencyResult(statistic=6.892569132546561, pvalue=0.008655478161175739, dof=1, expected_freq=array([[  202.82309993,   203.17690007],\n",
       "       [21008.17690007, 21044.82309993]]))"
      ]
     },
     "execution_count": 11,
     "metadata": {},
     "output_type": "execute_result"
    }
   ],
   "source": [
    "# Пример\n",
    "# Нулевая гипотеза - эффект аспирина эквивалентен эффекту плацебо\n",
    "\n",
    "table = np.array([[176, 230], [21035, 21018]])\n",
    "st.chi2_contingency(table)\n",
    "\n",
    "# p-value меньше alpha - нет оснований принять нулевую гипотезу - эффект аспирина неэквивалентен эффекту плацебо"
   ]
  }
 ],
 "metadata": {
  "kernelspec": {
   "display_name": "Python 3 (ipykernel)",
   "language": "python",
   "name": "python3"
  },
  "language_info": {
   "codemirror_mode": {
    "name": "ipython",
    "version": 3
   },
   "file_extension": ".py",
   "mimetype": "text/x-python",
   "name": "python",
   "nbconvert_exporter": "python",
   "pygments_lexer": "ipython3",
   "version": "3.10.9"
  }
 },
 "nbformat": 4,
 "nbformat_minor": 5
}

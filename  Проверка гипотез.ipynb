{
 "cells": [
  {
   "cell_type": "code",
   "execution_count": 26,
   "id": "7f22aec8",
   "metadata": {},
   "outputs": [],
   "source": [
    "import numpy as np\n",
    "import scipy.stats as st\n",
    "import pandas as pd"
   ]
  },
  {
   "cell_type": "code",
   "execution_count": 60,
   "id": "d9256076",
   "metadata": {},
   "outputs": [],
   "source": [
    "# df = pd.read_csv('data.csv')\n",
    "# df"
   ]
  },
  {
   "cell_type": "code",
   "execution_count": 61,
   "id": "7703f45b",
   "metadata": {},
   "outputs": [],
   "source": [
    "# df.describe()"
   ]
  },
  {
   "cell_type": "code",
   "execution_count": 62,
   "id": "5d25232f",
   "metadata": {},
   "outputs": [],
   "source": [
    "# df['math score'].hist(bins=50)\n",
    "# df['reading score'].hist(bins=50)\n",
    "# # df['writing score'].hist(bins=100)"
   ]
  },
  {
   "cell_type": "code",
   "execution_count": 63,
   "id": "d33adc17",
   "metadata": {},
   "outputs": [],
   "source": [
    "# df2 = df.loc[(df['math score'] > 70)] \n",
    "# df2['math score'].hist(bins=30)\n",
    "# st.shapiro(df2['math score'])"
   ]
  },
  {
   "cell_type": "code",
   "execution_count": null,
   "id": "7ab2ab7b",
   "metadata": {},
   "outputs": [],
   "source": []
  },
  {
   "cell_type": "markdown",
   "id": "169f3a1f",
   "metadata": {},
   "source": [
    "### Проверка гипотез"
   ]
  },
  {
   "cell_type": "markdown",
   "id": "038c45e1",
   "metadata": {},
   "source": [
    "Основные виды критериев при проверке гипотез:\n",
    "1) Критерии согласия - проверка на соответствие определенному закону распределения (общие или специальные критерии)\n",
    "2) Критерии значимости - проверка численных параметров известных законов распределения\n",
    "3) Критерии однородности - проверка значимости различий распределений\n",
    "\n",
    "По применению:\n",
    "1) Параметрические - используются только для определенных распределений (более мощные)\n",
    "2) Непараметрические - могут использоваться при неизвестном распределении"
   ]
  },
  {
   "cell_type": "markdown",
   "id": "8d5095ff",
   "metadata": {},
   "source": [
    "## Критерий Шапиро-Уилко (специальный критерий согласия)\n",
    "Основан на оптимальной линейной несмещённой оценке дисперсии к её обычной оценке методом максимального правдоподобия и является одним наиболее эффективных критериев проверки нормальности\n",
    "\n",
    "+ H0 - выборка взята из нормального распределения\n",
    "+ H1 - выборка взята не из нормального распределения\n",
    "\n",
    "**st.shapiro(x)** - реализация теста в scipy. Возвращает тестовое значение критерия и p-value.\n",
    "+ Если тестовое значение критерия приближается к единице и p-value > alpha - принимаем нулевую гипотезу - распределение нормальное. \n",
    "+ В обратном случае - p-value < alpha - отвергаем нулевую гипотезу - выборка взята из распределения отличного от нормального"
   ]
  },
  {
   "cell_type": "code",
   "execution_count": 65,
   "id": "b3afda43",
   "metadata": {},
   "outputs": [
    {
     "name": "stdout",
     "output_type": "stream",
     "text": [
      "ShapiroResult(statistic=0.9811134338378906, pvalue=0.7822656035423279)\n",
      "ShapiroResult(statistic=0.4521617889404297, pvalue=1.732437526769104e-09)\n"
     ]
    }
   ],
   "source": [
    "# Критерий Шапиро-Уилко\n",
    "\n",
    "x = [1,2,2,3,3,3,4,4,4,4,5,5,5,5,5,6,6,6,6,6,6,7,7,7,7,7,8,8,8,8,9,9,9,10,10,11] #нормальное распределение\n",
    "y = [1,1,1,1,1,1,11,1,1,1,1,1,1,1,11,1,1,1,1,11,1,1,1,11,1,1,11,1,1,1] #отличное от нормального\n",
    "print(st.shapiro(x))\n",
    "print(st.shapiro(y))"
   ]
  },
  {
   "cell_type": "markdown",
   "id": "3392c558",
   "metadata": {},
   "source": [
    "## Критерий Андерсона — Дарлинга (общий критерий согласия)\n",
    "\n",
    "Классический непараметрический критерий согласия Андерсона — Дарлинга предназначен для проверки простых гипотез о принадлежности анализируемой выборки полностью известному закону\n",
    "\n",
    "+ H0 - выборка взята из определенного распределения\n",
    "+ H1 - выборка взята не из определенного распределения\n",
    "\n",
    "Нулевая гипотеза отклоняется при больших значениях статитистики\n",
    "***\n",
    "**st.anderson(x)** - реализация теста в scipy. \n",
    "\n",
    "Эта функция работает для нормального, экспоненциального, логистического, распределения Weibull_min или распределения Гамбеля (экстремальное значение, тип I). \n",
    "\n",
    "Соответствующие параметры: dist{‘norm’, ‘expon’, ‘logistic’, ‘gumbel’, ‘gumbel_l’, ‘gumbel_r’, ‘extreme1’, ‘weibull_min’}, optional"
   ]
  },
  {
   "cell_type": "code",
   "execution_count": 84,
   "id": "77d65da3",
   "metadata": {},
   "outputs": [
    {
     "name": "stdout",
     "output_type": "stream",
     "text": [
      "AndersonResult(statistic=0.537373973495292, critical_values=array([0.528, 0.601, 0.721, 0.841, 1.   ]), significance_level=array([15. , 10. ,  5. ,  2.5,  1. ]), fit_result=  params: FitParams(loc=6.638888888888889, scale=2.1132612275516283)\n",
      " success: True\n",
      " message: '`anderson` successfully fit the distribution to the data.')\n",
      " При 15.0% уровне значимости критическое значение равно 0.528\n",
      " При 10.0% уровне значимости критическое значение равно 0.601\n",
      " При 5.0% уровне значимости критическое значение равно 0.721\n",
      " При 2.5% уровне значимости критическое значение равно 0.841\n",
      " При 1.0% уровне значимости критическое значение равно 1.0\n"
     ]
    }
   ],
   "source": [
    "# Критерий Андерсона - Дарлинга\n",
    "\n",
    "x = [7,8,2,3,3,8,9,9,4,5,5,5,5,5,5,6,6,8,6,6,6,7,7,7,7,7,8,8,8,8,9,9,3,10,10,10] #нормальное распределение\n",
    "print(st.anderson(x, dist='norm'))\n",
    "\n",
    "# Значение статистики - 0.5374. Далее дается список критических значений для соответствующих \n",
    "# уровней значений - для нормального - 15%, 10%, 5%, 2.5%, 1%.\n",
    "# Смотрим на соответствие значений и сравниваем на каком уровне значение статистики больше критического:\n",
    "v = st.anderson(x, dist='norm').critical_values\n",
    "l = st.anderson(x, dist='norm').significance_level\n",
    "for i,j in zip(v,l):\n",
    "    print(f' При {j}% уровне значимости критическое значение равно {i}')\n",
    "# Значение статистики 0.5374 больше чем 0.528, но меньше чем 0.601 -\n",
    "# следовательно нулевая может быть отклонена при 15% уровне значимости, но не при 10% уровне значимости"
   ]
  },
  {
   "cell_type": "code",
   "execution_count": null,
   "id": "8f201234",
   "metadata": {},
   "outputs": [],
   "source": []
  },
  {
   "cell_type": "code",
   "execution_count": null,
   "id": "0cb521b6",
   "metadata": {},
   "outputs": [],
   "source": []
  },
  {
   "cell_type": "code",
   "execution_count": null,
   "id": "185ee7c8",
   "metadata": {},
   "outputs": [],
   "source": []
  },
  {
   "cell_type": "code",
   "execution_count": null,
   "id": "9b792ea3",
   "metadata": {},
   "outputs": [],
   "source": []
  },
  {
   "cell_type": "code",
   "execution_count": null,
   "id": "f7907ac0",
   "metadata": {},
   "outputs": [],
   "source": []
  },
  {
   "cell_type": "code",
   "execution_count": null,
   "id": "f586134a",
   "metadata": {},
   "outputs": [],
   "source": []
  },
  {
   "cell_type": "code",
   "execution_count": null,
   "id": "5fc6d0e4",
   "metadata": {},
   "outputs": [],
   "source": []
  },
  {
   "cell_type": "code",
   "execution_count": null,
   "id": "fee9356b",
   "metadata": {},
   "outputs": [],
   "source": []
  },
  {
   "cell_type": "code",
   "execution_count": null,
   "id": "62b90215",
   "metadata": {},
   "outputs": [],
   "source": []
  },
  {
   "cell_type": "code",
   "execution_count": null,
   "id": "2aa78737",
   "metadata": {},
   "outputs": [],
   "source": []
  },
  {
   "cell_type": "code",
   "execution_count": null,
   "id": "08434a80",
   "metadata": {},
   "outputs": [],
   "source": []
  },
  {
   "cell_type": "markdown",
   "id": "79f4cc66",
   "metadata": {},
   "source": [
    "Основные виды гипотез:\n",
    "1) Равенство математического ожидания заданному значению (при известной или неизвестной дисперсии)\n",
    "2) Равенство математических ожиданий двух генеральных совукупностей (при равной или неравной дисперсии)\n",
    "3) Равенство дисперсии заданному значению\n",
    "4) Равенство дисперсий (двух или более совокупностей)\n",
    "5) Проверка гипотез о биномиальном распределении"
   ]
  },
  {
   "cell_type": "markdown",
   "id": "c3ad74ad",
   "metadata": {},
   "source": [
    "### Тесты с t-критерием\n",
    "1) st.ttest_1samp - гипотеза о равенстве мат ожидания заданному значению\n",
    "2) st.ttest_ind_from_stats - гипотеза о равенстве мат. ожиданий независимых совокупностей (по параметрам)\n",
    "3) st.ttest_ind - гипотеза о равенстве мат. ожиданий независимых совокупностей (по выборкам)\n",
    "4) st.ttest_rel - гипотеза о равенстве мат. ожиданий зависимых совокупностей"
   ]
  },
  {
   "cell_type": "code",
   "execution_count": 19,
   "id": "ccf0728b",
   "metadata": {},
   "outputs": [
    {
     "data": {
      "text/plain": [
       "array([3.95149263, 1.96622483, 4.82095148, 3.97100042, 3.83810469,\n",
       "       3.87192182, 4.06932578, 3.39421806, 2.73222398, 2.9774926 ,\n",
       "       2.89859886, 3.02789462, 3.60555803, 3.70088204, 4.37662093,\n",
       "       3.06555038, 4.10979018, 3.53903648, 5.40285929, 2.79810543,\n",
       "       4.23275369, 1.66821857, 2.07002221, 2.91721934, 3.43650123,\n",
       "       4.48085832, 3.47058017, 2.86647187, 3.65544925, 3.10352188,\n",
       "       2.31800372, 2.13905892, 3.18904858, 4.70308442, 1.52147205,\n",
       "       3.22602084, 3.32529136, 3.68746514, 3.70143679, 2.54347363,\n",
       "       3.12958703, 3.0486732 , 4.61974119, 0.76071056, 3.55616812,\n",
       "       2.89722991, 0.63368963, 3.20395624, 2.99074646, 4.78710699,\n",
       "       2.87029691, 2.99769107, 3.59721216, 4.18101658, 3.00939421,\n",
       "       4.05058228, 2.0218793 , 2.120184  , 3.38925219, 1.9059648 ,\n",
       "       4.43767686, 2.71724709, 4.49233697, 2.67555775, 2.00203227,\n",
       "       4.40187464, 3.72204826, 1.36834691, 2.90252479, 3.34037526,\n",
       "       1.17298539, 3.77740315, 3.32078569, 3.8142669 , 3.03192807,\n",
       "       4.86559115, 2.27770747, 3.15499131, 2.47061023, 5.03322787,\n",
       "       4.03791848, 2.44547689, 3.12779433, 2.89244713, 3.65304752,\n",
       "       3.54648691, 2.37670157, 3.19384475, 2.8681329 , 1.16167376,\n",
       "       3.54280732, 0.53849283, 3.88912512, 3.62790817, 3.95457184,\n",
       "       2.02908043, 0.17116617, 1.89833582, 4.06230598, 2.8465324 ])"
      ]
     },
     "execution_count": 19,
     "metadata": {},
     "output_type": "execute_result"
    }
   ],
   "source": [
    "r = norm.rvs(loc=3.3, scale=1, size=100, random_state=None)\n",
    "r"
   ]
  },
  {
   "cell_type": "code",
   "execution_count": 24,
   "id": "4407fbf4",
   "metadata": {},
   "outputs": [
    {
     "name": "stdout",
     "output_type": "stream",
     "text": [
      "TtestResult(statistic=-3.4127747314027648, pvalue=0.0004664151341536634, df=99) ConfidenceInterval(low=-inf, high=3.320222515895323)\n"
     ]
    }
   ],
   "source": [
    "a = 3.5\n",
    "res = st.ttest_1samp(r, a, axis=0, nan_policy='propagate', alternative='less', keepdims=False)\n",
    "ci = res.confidence_interval(confidence_level=0.95)\n",
    "print(res, ci)"
   ]
  },
  {
   "cell_type": "code",
   "execution_count": 13,
   "id": "c9e324ce",
   "metadata": {},
   "outputs": [],
   "source": [
    "# import numpy as np\n",
    "# from scipy.stats import norm\n",
    "# import matplotlib.pyplot as plt\n",
    "# fig, ax = plt.subplots(1, 1)\n",
    "# x = np.linspace(norm.ppf(0.01),\n",
    "#                 norm.ppf(0.99), 100)\n",
    "# ax.plot(x, norm.pdf(x),\n",
    "#        'r-', lw=5, alpha=0.6, label='norm pdf')\n",
    "# rv = norm()\n",
    "# ax.plot(x, rv.pdf(x), 'k-', lw=2, label='frozen pdf')"
   ]
  },
  {
   "cell_type": "code",
   "execution_count": null,
   "id": "91e80c79",
   "metadata": {},
   "outputs": [],
   "source": [
    "st.ttest_1samp(a, popmean, axis=0, nan_policy='propagate', alternative='two-sided', *, keepdims=False)"
   ]
  },
  {
   "cell_type": "code",
   "execution_count": null,
   "id": "0779065a",
   "metadata": {},
   "outputs": [],
   "source": [
    "st.ttest_1samp(a, popmean, axis=0, nan_policy='propagate', alternative='two-sided', keepdims=False)"
   ]
  }
 ],
 "metadata": {
  "kernelspec": {
   "display_name": "Python 3 (ipykernel)",
   "language": "python",
   "name": "python3"
  },
  "language_info": {
   "codemirror_mode": {
    "name": "ipython",
    "version": 3
   },
   "file_extension": ".py",
   "mimetype": "text/x-python",
   "name": "python",
   "nbconvert_exporter": "python",
   "pygments_lexer": "ipython3",
   "version": "3.10.9"
  }
 },
 "nbformat": 4,
 "nbformat_minor": 5
}
